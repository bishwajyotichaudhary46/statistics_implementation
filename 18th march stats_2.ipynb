{
 "cells": [
  {
   "cell_type": "code",
   "execution_count": 4,
   "id": "3ea02dbd",
   "metadata": {},
   "outputs": [],
   "source": [
    "import pandas as pd\n",
    "import numpy as np\n",
    "import matplotlib.pyplot as plt\n",
    "from statistics import mode"
   ]
  },
  {
   "cell_type": "code",
   "execution_count": 7,
   "id": "79200276",
   "metadata": {},
   "outputs": [],
   "source": [
    "population = np.random.randint(10,20,50)"
   ]
  },
  {
   "cell_type": "code",
   "execution_count": 8,
   "id": "615ad657",
   "metadata": {},
   "outputs": [
    {
     "data": {
      "text/plain": [
       "array([18, 18, 18, 15, 16, 11, 11, 14, 18, 12, 17, 19, 11, 17, 16, 14, 12,\n",
       "       14, 13, 15, 12, 14, 12, 19, 19, 12, 12, 12, 14, 16, 10, 15, 16, 14,\n",
       "       13, 11, 15, 14, 15, 17, 15, 18, 10, 13, 12, 11, 19, 11, 19, 12])"
      ]
     },
     "execution_count": 8,
     "metadata": {},
     "output_type": "execute_result"
    }
   ],
   "source": [
    "population"
   ]
  },
  {
   "cell_type": "code",
   "execution_count": 11,
   "id": "3895b89c",
   "metadata": {},
   "outputs": [
    {
     "data": {
      "text/plain": [
       "14.42"
      ]
     },
     "execution_count": 11,
     "metadata": {},
     "output_type": "execute_result"
    }
   ],
   "source": [
    "np.mean(population)"
   ]
  },
  {
   "cell_type": "code",
   "execution_count": 12,
   "id": "5f0a18b4",
   "metadata": {},
   "outputs": [
    {
     "data": {
      "text/plain": [
       "14.0"
      ]
     },
     "execution_count": 12,
     "metadata": {},
     "output_type": "execute_result"
    }
   ],
   "source": [
    "np.median(population)"
   ]
  },
  {
   "cell_type": "code",
   "execution_count": 14,
   "id": "8745fe4b",
   "metadata": {},
   "outputs": [
    {
     "data": {
      "text/plain": [
       "12"
      ]
     },
     "execution_count": 14,
     "metadata": {},
     "output_type": "execute_result"
    }
   ],
   "source": [
    "mode(population)"
   ]
  },
  {
   "cell_type": "code",
   "execution_count": 16,
   "id": "2259c708",
   "metadata": {},
   "outputs": [
    {
     "name": "stdout",
     "output_type": "stream",
     "text": [
      "mean of the population 14.42\n",
      "median of the population 14.0\n",
      "mode of the population 12\n"
     ]
    }
   ],
   "source": [
    "print(f\"mean of the population {np.mean(population)}\")\n",
    "print(f\"median of the population {np.median(population)}\")\n",
    "print(f\"mode of the population {mode(population)}\")"
   ]
  },
  {
   "cell_type": "code",
   "execution_count": 19,
   "id": "9e1df5b0",
   "metadata": {},
   "outputs": [],
   "source": [
    "sample = np.random.choice(population,20)"
   ]
  },
  {
   "cell_type": "code",
   "execution_count": 20,
   "id": "dd66d555",
   "metadata": {},
   "outputs": [
    {
     "name": "stdout",
     "output_type": "stream",
     "text": [
      "mean of the sample 14.5\n",
      "median of the sample 14.0\n",
      "mode of the sample 19\n"
     ]
    }
   ],
   "source": [
    "print(f\"mean of the sample {np.mean(sample)}\")\n",
    "print(f\"median of the sample {np.median(sample)}\")\n",
    "print(f\"mode of the sample {mode(sample)}\")"
   ]
  },
  {
   "cell_type": "code",
   "execution_count": 21,
   "id": "52260c25",
   "metadata": {},
   "outputs": [],
   "source": [
    "sample_1 = np.random.choice(population,20)"
   ]
  },
  {
   "cell_type": "code",
   "execution_count": 22,
   "id": "81f55969",
   "metadata": {},
   "outputs": [],
   "source": [
    "sample_2 = np.random.choice(population,20)\n",
    "sample_3 = np.random.choice(population,20)\n",
    "sample_4 = np.random.choice(population,20)"
   ]
  },
  {
   "cell_type": "code",
   "execution_count": 23,
   "id": "954cd396",
   "metadata": {},
   "outputs": [
    {
     "name": "stdout",
     "output_type": "stream",
     "text": [
      "[10 14 19 16 12 19 12 15 14 13 12 14 16 19 19 14 19 12 12 14]\n",
      "====================================================================================================================================================================================\n",
      "[12 11 12 11 15 12 11 13 14 12 11 12 12 17 13 19 12 12 12 14]\n",
      "====================================================================================================================================================================================\n",
      "[14 18 14 14 14 12 14 15 16 12 11 15 19 12 15 19 17 14 12 11]\n",
      "====================================================================================================================================================================================\n",
      "[16 16 17 17 14 12 18 15 12 15 11 18 11 13 11 11 12 14 16 16]\n"
     ]
    }
   ],
   "source": [
    "print(sample_1)\n",
    "print(60 *\"===\")\n",
    "print(sample_2)\n",
    "print(60 *\"===\")\n",
    "print(sample_3)\n",
    "print(60 *\"===\")\n",
    "print(sample_4)"
   ]
  },
  {
   "cell_type": "code",
   "execution_count": 25,
   "id": "1f28e35c",
   "metadata": {},
   "outputs": [],
   "source": [
    "mean_of_samples= []\n",
    "all_sample= [sample_1, sample_2, sample_3, sample_4]\n",
    "\n",
    "for sample in all_sample:\n",
    "    mean_of_samples.append(np.mean(sample))"
   ]
  },
  {
   "cell_type": "code",
   "execution_count": 26,
   "id": "cac113a9",
   "metadata": {},
   "outputs": [
    {
     "data": {
      "text/plain": [
       "[14.75, 12.85, 14.4, 14.25]"
      ]
     },
     "execution_count": 26,
     "metadata": {},
     "output_type": "execute_result"
    }
   ],
   "source": [
    "mean_of_samples"
   ]
  },
  {
   "cell_type": "markdown",
   "id": "b1652bda",
   "metadata": {},
   "source": [
    "# central limit theorem"
   ]
  },
  {
   "cell_type": "code",
   "execution_count": 29,
   "id": "04fe240d",
   "metadata": {},
   "outputs": [],
   "source": [
    "population = np.random.binomial(10,0.5, 10000)"
   ]
  },
  {
   "cell_type": "code",
   "execution_count": 30,
   "id": "2a89a0a3",
   "metadata": {},
   "outputs": [
    {
     "name": "stdout",
     "output_type": "stream",
     "text": [
      "[5 6 7 ... 0 6 6]\n"
     ]
    }
   ],
   "source": [
    "print(population)"
   ]
  },
  {
   "cell_type": "code",
   "execution_count": 31,
   "id": "55061a4b",
   "metadata": {},
   "outputs": [
    {
     "data": {
      "text/plain": [
       "10000"
      ]
     },
     "execution_count": 31,
     "metadata": {},
     "output_type": "execute_result"
    }
   ],
   "source": [
    "len(population)"
   ]
  },
  {
   "cell_type": "code",
   "execution_count": 32,
   "id": "50eae333",
   "metadata": {},
   "outputs": [
    {
     "name": "stderr",
     "output_type": "stream",
     "text": [
      "C:\\Users\\acer\\anaconda3\\lib\\site-packages\\seaborn\\distributions.py:2619: FutureWarning: `distplot` is a deprecated function and will be removed in a future version. Please adapt your code to use either `displot` (a figure-level function with similar flexibility) or `histplot` (an axes-level function for histograms).\n",
      "  warnings.warn(msg, FutureWarning)\n"
     ]
    },
    {
     "data": {
      "text/plain": [
       "<AxesSubplot:ylabel='Density'>"
      ]
     },
     "execution_count": 32,
     "metadata": {},
     "output_type": "execute_result"
    },
    {
     "data": {
      "image/png": "[encoded data removed]",
      "text/plain": [
       "<Figure size 640x480 with 1 Axes>"
      ]
     },
     "metadata": {},
     "output_type": "display_data"
    }
   ],
   "source": [
    "import seaborn as sns\n",
    "sns.distplot(population)"
   ]
  },
  {
   "cell_type": "code",
   "execution_count": 34,
   "id": "edb668ce",
   "metadata": {},
   "outputs": [],
   "source": [
    "size = int(len(population)*0.30)"
   ]
  },
  {
   "cell_type": "code",
   "execution_count": 36,
   "id": "426615ea",
   "metadata": {},
   "outputs": [],
   "source": [
    "sample_mean = []\n",
    "for i in range(1,31):\n",
    "    sample = np.random.choice(population, size= size)\n",
    "    sample_mean.append(np.mean(sample))"
   ]
  },
  {
   "cell_type": "code",
   "execution_count": 37,
   "id": "3e6c3f4f",
   "metadata": {},
   "outputs": [
    {
     "data": {
      "text/plain": [
       "[4.997333333333334,\n",
       " 5.023333333333333,\n",
       " 4.998666666666667,\n",
       " 4.985,\n",
       " 5.014,\n",
       " 5.018,\n",
       " 4.978666666666666,\n",
       " 4.998333333333333,\n",
       " 4.993333333333333,\n",
       " 5.0216666666666665,\n",
       " 4.957333333333334,\n",
       " 4.974666666666667,\n",
       " 5.011333333333333,\n",
       " 5.003333333333333,\n",
       " 5.004666666666667,\n",
       " 5.002,\n",
       " 4.949,\n",
       " 5.002666666666666,\n",
       " 4.969666666666667,\n",
       " 5.0,\n",
       " 4.991333333333333,\n",
       " 4.987,\n",
       " 5.016333333333334,\n",
       " 5.039666666666666,\n",
       " 4.942,\n",
       " 4.9543333333333335,\n",
       " 5.027666666666667,\n",
       " 4.975333333333333,\n",
       " 4.964333333333333,\n",
       " 4.9]"
      ]
     },
     "execution_count": 37,
     "metadata": {},
     "output_type": "execute_result"
    }
   ],
   "source": [
    "sample_mean"
   ]
  },
  {
   "cell_type": "code",
   "execution_count": 38,
   "id": "2107a57d",
   "metadata": {},
   "outputs": [
    {
     "name": "stderr",
     "output_type": "stream",
     "text": [
      "C:\\Users\\acer\\anaconda3\\lib\\site-packages\\seaborn\\distributions.py:2619: FutureWarning: `distplot` is a deprecated function and will be removed in a future version. Please adapt your code to use either `displot` (a figure-level function with similar flexibility) or `histplot` (an axes-level function for histograms).\n",
      "  warnings.warn(msg, FutureWarning)\n"
     ]
    },
    {
     "data": {
      "text/plain": [
       "<AxesSubplot:ylabel='Density'>"
      ]
     },
     "execution_count": 38,
     "metadata": {},
     "output_type": "execute_result"
    },
    {
     "data": {
      "image/png": "[encoded data removed]",
      "text/plain": [
       "<Figure size 640x480 with 1 Axes>"
      ]
     },
     "metadata": {},
     "output_type": "display_data"
    }
   ],
   "source": [
    "sns.distplot(sample_mean)"
   ]
  },
  {
   "cell_type": "code",
   "execution_count": 39,
   "id": "00af9fe1",
   "metadata": {},
   "outputs": [],
   "source": [
    "sample_mean = []\n",
    "for i in range(1,101):\n",
    "    sample = np.random.choice(population, size= size)\n",
    "    sample_mean.append(np.mean(sample))"
   ]
  },
  {
   "cell_type": "code",
   "execution_count": 40,
   "id": "bbcd3314",
   "metadata": {},
   "outputs": [
    {
     "name": "stderr",
     "output_type": "stream",
     "text": [
      "C:\\Users\\acer\\anaconda3\\lib\\site-packages\\seaborn\\distributions.py:2619: FutureWarning: `distplot` is a deprecated function and will be removed in a future version. Please adapt your code to use either `displot` (a figure-level function with similar flexibility) or `histplot` (an axes-level function for histograms).\n",
      "  warnings.warn(msg, FutureWarning)\n"
     ]
    },
    {
     "data": {
      "text/plain": [
       "<AxesSubplot:ylabel='Density'>"
      ]
     },
     "execution_count": 40,
     "metadata": {},
     "output_type": "execute_result"
    },
    {
     "data": {
      "image/png": "[encoded data removed]",
      "text/plain": [
       "<Figure size 640x480 with 1 Axes>"
      ]
     },
     "metadata": {},
     "output_type": "display_data"
    }
   ],
   "source": [
    "sns.distplot(sample_mean)"
   ]
  },
  {
   "cell_type": "code",
   "execution_count": 46,
   "id": "0ffb0695",
   "metadata": {},
   "outputs": [],
   "source": [
    "sample_mean = []\n",
    "for i in range(1,501):\n",
    "    sample = np.random.choice(population, size= size)\n",
    "    sample_mean.append(np.mean(sample))"
   ]
  },
  {
   "cell_type": "code",
   "execution_count": 47,
   "id": "66ca57a1",
   "metadata": {},
   "outputs": [
    {
     "name": "stderr",
     "output_type": "stream",
     "text": [
      "C:\\Users\\acer\\anaconda3\\lib\\site-packages\\seaborn\\distributions.py:2619: FutureWarning: `distplot` is a deprecated function and will be removed in a future version. Please adapt your code to use either `displot` (a figure-level function with similar flexibility) or `histplot` (an axes-level function for histograms).\n",
      "  warnings.warn(msg, FutureWarning)\n"
     ]
    },
    {
     "data": {
      "text/plain": [
       "<AxesSubplot:ylabel='Density'>"
      ]
     },
     "execution_count": 47,
     "metadata": {},
     "output_type": "execute_result"
    },
    {
     "data": {
      "image/png": "[encoded data removed]",
      "text/plain": [
       "<Figure size 640x480 with 1 Axes>"
      ]
     },
     "metadata": {},
     "output_type": "display_data"
    }
   ],
   "source": [
    "sns.distplot(sample_mean,color=\"red\")"
   ]
  },
  {
   "cell_type": "code",
   "execution_count": 48,
   "id": "c0dc94dc",
   "metadata": {},
   "outputs": [],
   "source": [
    "sample_mean = []\n",
    "for i in range(1,1001):\n",
    "    sample = np.random.choice(population, size= size)\n",
    "    sample_mean.append(np.mean(sample))"
   ]
  },
  {
   "cell_type": "code",
   "execution_count": 49,
   "id": "db4ff076",
   "metadata": {},
   "outputs": [
    {
     "name": "stderr",
     "output_type": "stream",
     "text": [
      "C:\\Users\\acer\\anaconda3\\lib\\site-packages\\seaborn\\distributions.py:2619: FutureWarning: `distplot` is a deprecated function and will be removed in a future version. Please adapt your code to use either `displot` (a figure-level function with similar flexibility) or `histplot` (an axes-level function for histograms).\n",
      "  warnings.warn(msg, FutureWarning)\n"
     ]
    },
    {
     "data": {
      "text/plain": [
       "<AxesSubplot:ylabel='Density'>"
      ]
     },
     "execution_count": 49,
     "metadata": {},
     "output_type": "execute_result"
    },
    {
     "data": {
      "image/png": "[encoded data removed]",
      "text/plain": [
       "<Figure size 640x480 with 1 Axes>"
      ]
     },
     "metadata": {},
     "output_type": "display_data"
    }
   ],
   "source": [
    "sns.distplot(sample_mean)"
   ]
  },
  {
   "cell_type": "code",
   "execution_count": 50,
   "id": "e42e622b",
   "metadata": {},
   "outputs": [
    {
     "data": {
      "text/plain": [
       "4.983040000000001"
      ]
     },
     "execution_count": 50,
     "metadata": {},
     "output_type": "execute_result"
    }
   ],
   "source": [
    "np.mean(sample_mean)"
   ]
  },
  {
   "cell_type": "markdown",
   "id": "49775349",
   "metadata": {},
   "source": [
    "# Confidence Interval and Margin of Error"
   ]
  },
  {
   "cell_type": "code",
   "execution_count": 67,
   "id": "45b3f073",
   "metadata": {},
   "outputs": [],
   "source": [
    "sample_1 = np.random.choice(population,20)\n",
    "sample_2 = np.random.choice(population,20)\n",
    "sample_3 = np.random.choice(population,20)\n",
    "sample_4 = np.random.choice(population,20)"
   ]
  },
  {
   "cell_type": "code",
   "execution_count": 68,
   "id": "38ab8428",
   "metadata": {},
   "outputs": [],
   "source": [
    "mean_of_samples= []\n",
    "all_sample= [sample_1, sample_2, sample_3, sample_4]\n",
    "\n",
    "for sample in all_sample:\n",
    "    mean_of_samples.append(np.mean(sample))"
   ]
  },
  {
   "cell_type": "code",
   "execution_count": 51,
   "id": "c1e22b4c",
   "metadata": {},
   "outputs": [],
   "source": [
    "import scipy.stats as stats\n"
   ]
  },
  {
   "cell_type": "code",
   "execution_count": 54,
   "id": "9fb6d73d",
   "metadata": {},
   "outputs": [
    {
     "data": {
      "text/plain": [
       "1.6448536269514722"
      ]
     },
     "execution_count": 54,
     "metadata": {},
     "output_type": "execute_result"
    }
   ],
   "source": [
    "stats.norm.ppf(q=0.95)# parameter is confidence interval # ppf --> pdf"
   ]
  },
  {
   "cell_type": "code",
   "execution_count": 55,
   "id": "d3adb197",
   "metadata": {},
   "outputs": [
    {
     "data": {
      "text/plain": [
       "2.3263478740408408"
      ]
     },
     "execution_count": 55,
     "metadata": {},
     "output_type": "execute_result"
    }
   ],
   "source": [
    "stats.norm.ppf(q=0.99)"
   ]
  },
  {
   "cell_type": "code",
   "execution_count": 56,
   "id": "7bf9b651",
   "metadata": {},
   "outputs": [],
   "source": [
    "z_critical = stats.norm.ppf(q= 0.975)"
   ]
  },
  {
   "cell_type": "code",
   "execution_count": 58,
   "id": "e2ed0a16",
   "metadata": {},
   "outputs": [],
   "source": [
    "t_critical = stats.t.ppf(q= 0.975, df =24)"
   ]
  },
  {
   "cell_type": "code",
   "execution_count": 69,
   "id": "5b10ac0c",
   "metadata": {},
   "outputs": [],
   "source": [
    "margin_error = z_critical * (np.std(mean_of_samples)/np.sqrt(20))"
   ]
  },
  {
   "cell_type": "code",
   "execution_count": 70,
   "id": "b6c59f0f",
   "metadata": {},
   "outputs": [
    {
     "data": {
      "text/plain": [
       "5.2017430922815295"
      ]
     },
     "execution_count": 70,
     "metadata": {},
     "output_type": "execute_result"
    }
   ],
   "source": [
    "np.mean(mean_of_samples) - margin_error"
   ]
  },
  {
   "cell_type": "code",
   "execution_count": 71,
   "id": "c4d1730c",
   "metadata": {},
   "outputs": [
    {
     "data": {
      "text/plain": [
       "5.323256907718471"
      ]
     },
     "execution_count": 71,
     "metadata": {},
     "output_type": "execute_result"
    }
   ],
   "source": [
    "np.mean(mean_of_samples) + margin_error"
   ]
  },
  {
   "cell_type": "markdown",
   "id": "3f7d66f0",
   "metadata": {},
   "source": [
    "# z test"
   ]
  },
  {
   "cell_type": "code",
   "execution_count": 89,
   "id": "c698247c",
   "metadata": {},
   "outputs": [],
   "source": [
    "from numpy.random import randn\n",
    "population = randn(100)"
   ]
  },
  {
   "cell_type": "code",
   "execution_count": 90,
   "id": "8f8f7e97",
   "metadata": {},
   "outputs": [
    {
     "data": {
      "text/plain": [
       "array([ 2.88102000e-01, -7.28473238e-02, -5.78999033e-01, -9.55500158e-01,\n",
       "        1.99724791e+00, -1.25289995e+00,  1.72008708e+00, -2.40018695e-01,\n",
       "        7.89305619e-01,  1.04488823e+00, -3.46664212e-02, -5.34444142e-01,\n",
       "       -2.33891340e+00,  1.16912529e+00, -1.49070134e+00, -2.39021725e-01,\n",
       "        1.35682145e+00, -1.24726701e+00,  1.23574999e-01, -1.27445469e-02,\n",
       "       -3.68152903e-02,  5.84868358e-01,  8.93354676e-01, -3.68031033e-02,\n",
       "        1.32312919e-01, -9.38492305e-01, -4.44322661e-01, -9.18607134e-01,\n",
       "        2.32550606e+00,  6.92012890e-01, -2.96953128e-01,  4.70672970e-02,\n",
       "       -5.49889691e-01, -8.02744439e-01,  1.29369505e+00, -4.33145385e-01,\n",
       "       -1.22413383e+00,  1.72373565e+00, -1.05261590e-01, -1.03838146e+00,\n",
       "        4.89236511e-01,  3.33681466e-01,  1.97491808e-01,  8.72626715e-01,\n",
       "        4.96933543e-01, -1.55759923e-01,  4.16303091e-01, -2.47108808e-01,\n",
       "        3.53846028e-01, -8.95437819e-01,  2.86937766e-01,  4.30429382e-01,\n",
       "        8.48589929e-01, -1.62851002e+00, -1.04814589e+00, -3.09586179e-01,\n",
       "        6.62692272e-02, -2.35178647e-01,  1.42919615e+00,  6.97092882e-01,\n",
       "       -7.05834036e-01, -9.32440306e-01, -2.78222189e-01,  1.60312236e-01,\n",
       "        1.05977158e+00,  1.35313483e+00, -7.59453312e-02,  1.91023633e+00,\n",
       "        1.07687774e+00, -5.87311795e-02,  3.33013775e-01,  1.22277935e+00,\n",
       "        7.06384803e-01,  5.60782178e-01,  8.62964128e-01,  1.16876555e+00,\n",
       "       -7.68369950e-01, -1.38763199e+00, -5.21951541e-01, -9.64264915e-01,\n",
       "        5.12042343e-01, -3.03560172e-01, -1.83007483e+00,  7.61176080e-01,\n",
       "       -1.24778019e+00, -4.94841947e-02,  1.76172103e-02, -1.17084978e+00,\n",
       "        1.97439327e+00,  1.81042189e+00,  1.41840772e+00,  1.76546962e+00,\n",
       "       -5.52337269e-01, -4.73939074e-02, -3.40004614e-01, -2.32748757e+00,\n",
       "        9.34488549e-04,  2.88225207e-01,  8.04676755e-01, -1.14130259e+00])"
      ]
     },
     "execution_count": 90,
     "metadata": {},
     "output_type": "execute_result"
    }
   ],
   "source": [
    "population"
   ]
  },
  {
   "cell_type": "code",
   "execution_count": 91,
   "id": "95331c62",
   "metadata": {},
   "outputs": [
    {
     "name": "stderr",
     "output_type": "stream",
     "text": [
      "C:\\Users\\acer\\anaconda3\\lib\\site-packages\\seaborn\\distributions.py:2619: FutureWarning: `distplot` is a deprecated function and will be removed in a future version. Please adapt your code to use either `displot` (a figure-level function with similar flexibility) or `histplot` (an axes-level function for histograms).\n",
      "  warnings.warn(msg, FutureWarning)\n"
     ]
    },
    {
     "data": {
      "text/plain": [
       "<AxesSubplot:ylabel='Density'>"
      ]
     },
     "execution_count": 91,
     "metadata": {},
     "output_type": "execute_result"
    },
    {
     "data": {
      "image/png": "[encoded data removed]",
      "text/plain": [
       "<Figure size 640x480 with 1 Axes>"
      ]
     },
     "metadata": {},
     "output_type": "display_data"
    }
   ],
   "source": [
    "sns.distplot(population)"
   ]
  },
  {
   "cell_type": "code",
   "execution_count": 92,
   "id": "ca590cfb",
   "metadata": {},
   "outputs": [
    {
     "name": "stdout",
     "output_type": "stream",
     "text": [
      "here is mean of the population: 0.07821759434882165 , here is the std of population 0.9805392768532836\n"
     ]
    }
   ],
   "source": [
    "print(f\"here is mean of the population: {np.mean(population)} , here is the std of population {np.std(population)}\")"
   ]
  },
  {
   "cell_type": "markdown",
   "id": "ec2a21b9",
   "metadata": {},
   "source": [
    "# C.I = 95%\n",
    "# alpha = 5%\n",
    "# p value < = alpha--> Reject null hypothesis"
   ]
  },
  {
   "cell_type": "code",
   "execution_count": 95,
   "id": "980a3466",
   "metadata": {},
   "outputs": [
    {
     "name": "stdout",
     "output_type": "stream",
     "text": [
      "Requirement already satisfied: statsmodels in c:\\users\\acer\\anaconda3\\lib\\site-packages (0.13.2)\n",
      "Requirement already satisfied: numpy>=1.17 in c:\\users\\acer\\anaconda3\\lib\\site-packages (from statsmodels) (1.21.5)\n",
      "Requirement already satisfied: scipy>=1.3 in c:\\users\\acer\\anaconda3\\lib\\site-packages (from statsmodels) (1.9.1)\n",
      "Requirement already satisfied: pandas>=0.25 in c:\\users\\acer\\anaconda3\\lib\\site-packages (from statsmodels) (1.4.4)\n",
      "Requirement already satisfied: patsy>=0.5.2 in c:\\users\\acer\\anaconda3\\lib\\site-packages (from statsmodels) (0.5.2)\n",
      "Requirement already satisfied: packaging>=21.3 in c:\\users\\acer\\anaconda3\\lib\\site-packages (from statsmodels) (21.3)\n",
      "Requirement already satisfied: pyparsing!=3.0.5,>=2.0.2 in c:\\users\\acer\\anaconda3\\lib\\site-packages (from packaging>=21.3->statsmodels) (3.0.9)\n",
      "Requirement already satisfied: pytz>=2020.1 in c:\\users\\acer\\anaconda3\\lib\\site-packages (from pandas>=0.25->statsmodels) (2022.1)\n",
      "Requirement already satisfied: python-dateutil>=2.8.1 in c:\\users\\acer\\anaconda3\\lib\\site-packages (from pandas>=0.25->statsmodels) (2.8.2)\n",
      "Requirement already satisfied: six in c:\\users\\acer\\anaconda3\\lib\\site-packages (from patsy>=0.5.2->statsmodels) (1.16.0)\n"
     ]
    }
   ],
   "source": [
    "!pip install statsmodels"
   ]
  },
  {
   "cell_type": "code",
   "execution_count": 97,
   "id": "a0a9ee22",
   "metadata": {},
   "outputs": [],
   "source": [
    "null_mean= np.mean(population)"
   ]
  },
  {
   "cell_type": "code",
   "execution_count": 100,
   "id": "dee2b23d",
   "metadata": {},
   "outputs": [],
   "source": [
    "alpha = 0.05"
   ]
  },
  {
   "cell_type": "code",
   "execution_count": 102,
   "id": "cf0eb000",
   "metadata": {},
   "outputs": [],
   "source": [
    "from statsmodels.stats.weightstats import ztest\n",
    "z_score, p_value = ztest(population, value= null_mean, alternative='larger')# two tail alternative = larger"
   ]
  },
  {
   "cell_type": "code",
   "execution_count": 103,
   "id": "90530d2a",
   "metadata": {},
   "outputs": [
    {
     "name": "stdout",
     "output_type": "stream",
     "text": [
      "we are going to accept null hypothesis\n"
     ]
    }
   ],
   "source": [
    "if (p_value < alpha):\n",
    "    print(\"Reject Null hypothesis\")\n",
    "else:\n",
    "    print(\"we are going to accept null hypothesis\")"
   ]
  },
  {
   "cell_type": "code",
   "execution_count": 104,
   "id": "924e1a23",
   "metadata": {},
   "outputs": [
    {
     "data": {
      "text/plain": [
       "0.5"
      ]
     },
     "execution_count": 104,
     "metadata": {},
     "output_type": "execute_result"
    }
   ],
   "source": [
    "p_value"
   ]
  },
  {
   "cell_type": "code",
   "execution_count": 105,
   "id": "64e6f856",
   "metadata": {},
   "outputs": [
    {
     "data": {
      "text/plain": [
       "0.0"
      ]
     },
     "execution_count": 105,
     "metadata": {},
     "output_type": "execute_result"
    }
   ],
   "source": [
    "z_score"
   ]
  },
  {
   "cell_type": "code",
   "execution_count": null,
   "id": "0e49c90d",
   "metadata": {},
   "outputs": [],
   "source": []
  }
 ],
 "metadata": {
  "kernelspec": {
   "display_name": "Python 3 (ipykernel)",
   "language": "python",
   "name": "python3"
  },
  "language_info": {
   "codemirror_mode": {
    "name": "ipython",
    "version": 3
   },
   "file_extension": ".py",
   "mimetype": "text/x-python",
   "name": "python",
   "nbconvert_exporter": "python",
   "pygments_lexer": "ipython3",
   "version": "3.9.13"
  }
 },
 "nbformat": 4,
 "nbformat_minor": 5
}
